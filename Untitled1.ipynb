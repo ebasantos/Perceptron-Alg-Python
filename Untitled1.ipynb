{
  "nbformat": 4,
  "nbformat_minor": 0,
  "metadata": {
    "colab": {
      "name": "Untitled1.ipynb",
      "provenance": [],
      "collapsed_sections": [],
      "include_colab_link": true
    },
    "kernelspec": {
      "name": "python3",
      "display_name": "Python 3"
    }
  },
  "cells": [
    {
      "cell_type": "markdown",
      "metadata": {
        "id": "view-in-github",
        "colab_type": "text"
      },
      "source": [
        "<a href=\"https://colab.research.google.com/github/ebasantos/Perceptron-Alg-Python/blob/master/Untitled1.ipynb\" target=\"_parent\"><img src=\"https://colab.research.google.com/assets/colab-badge.svg\" alt=\"Open In Colab\"/></a>"
      ]
    },
    {
      "cell_type": "code",
      "metadata": {
        "id": "wotSVEqlN6ej",
        "colab_type": "code",
        "outputId": "f1f62fbc-1f33-49d1-999a-1e2f66d58dd5",
        "colab": {
          "base_uri": "https://localhost:8080/",
          "height": 170
        }
      },
      "source": [
        "entradas = [0.56, 0.29, 0.19];\n",
        "baseA = [0.89, 0.7, 0.7]\n",
        "baseB = [0.5, 0.19, 0.18];\n",
        "baseC = [0.18, 0.56, 0.84];\n",
        "i = 0;\n",
        "for entrada in entradas:\n",
        "  if(i == 0):\n",
        "    for base in baseA:\n",
        "      primeiroCalculo = entrada * base\n",
        "      ##f(x) = x + 0.3\n",
        "      calculoFinal = primeiroCalculo + 0.3\n",
        "      print(\"Resultado = \", calculoFinal)\n",
        "  elif(i == 1):\n",
        "    for base in baseB:\n",
        "      primeiroCalculo = entrada * base\n",
        "      ##f(x) = x + 0.3\n",
        "      calculoFinal = primeiroCalculo + 0.3\n",
        "      print(\"Resultado = \", calculoFinal)\n",
        "  elif(i == 2):\n",
        "    for base in baseC:\n",
        "      primeiroCalculo = entrada * base\n",
        "      ##f(x) = x + 0.3\n",
        "      calculoFinal = primeiroCalculo + 0.3\n",
        "      print(\"Resultado = \", calculoFinal)\n",
        "  i = i+1;\n"
      ],
      "execution_count": 0,
      "outputs": [
        {
          "output_type": "stream",
          "text": [
            "Resultado =  0.7984\n",
            "Resultado =  0.692\n",
            "Resultado =  0.692\n",
            "Resultado =  0.44499999999999995\n",
            "Resultado =  0.35509999999999997\n",
            "Resultado =  0.35219999999999996\n",
            "Resultado =  0.3342\n",
            "Resultado =  0.4064\n",
            "Resultado =  0.4596\n"
          ],
          "name": "stdout"
        }
      ]
    }
  ]
}