{
  "nbformat": 4,
  "nbformat_minor": 0,
  "metadata": {
    "colab": {
      "name": "Untitled6.ipynb",
      "provenance": [],
      "include_colab_link": true
    },
    "kernelspec": {
      "name": "python2",
      "display_name": "Python 2"
    }
  },
  "cells": [
    {
      "cell_type": "markdown",
      "metadata": {
        "id": "view-in-github",
        "colab_type": "text"
      },
      "source": [
        "<a href=\"https://colab.research.google.com/github/ebasantos/Perceptron-Alg-Python/blob/master/CalculoMatriz.ipynb\" target=\"_parent\"><img src=\"https://colab.research.google.com/assets/colab-badge.svg\" alt=\"Open In Colab\"/></a>"
      ]
    },
    {
      "cell_type": "code",
      "metadata": {
        "id": "rxfZ46kthyHP",
        "colab_type": "code",
        "colab": {
          "base_uri": "https://localhost:8080/",
          "height": 153
        },
        "outputId": "bbd3a652-de26-4ce0-d935-6db6d4f5ae0a"
      },
      "source": [
        "import tensorflow as tf\n",
        "\n",
        "x = tf.constant([[1,0,2]])\n",
        "y = tf.constant([[2],[3],[1]])\n",
        "resultado = tf.matmul(x,y)\n",
        "print (tf.Session().run(resultado))\n",
        "\n",
        "x = tf.constant([[1,0],[0,0]])\n",
        "y = tf.constant([[0,1],[1,0]])\n",
        "resultado = tf.matmul(x,y)\n",
        "print (tf.Session().run(resultado))\n",
        "\n",
        "\n",
        "x = tf.constant([[0,1],[1,0]])\n",
        "y = tf.constant([[1,0],[0,0]])\n",
        "resultado = tf.matmul(x,y)\n",
        "print (tf.Session().run(resultado))\n",
        "\n",
        "x = tf.constant([[1,2],[3,1],[0,3]])\n",
        "y = tf.constant([[1,0,1],[2,1,0]])\n",
        "resultado = tf.matmul(x,y)\n",
        "print (tf.Session().run(resultado))"
      ],
      "execution_count": 2,
      "outputs": [
        {
          "output_type": "stream",
          "text": [
            "[[4]]\n",
            "[[0 1]\n",
            " [0 0]]\n",
            "[[0 0]\n",
            " [1 0]]\n",
            "[[5 2 1]\n",
            " [5 1 3]\n",
            " [6 3 0]]\n"
          ],
          "name": "stdout"
        }
      ]
    }
  ]
}